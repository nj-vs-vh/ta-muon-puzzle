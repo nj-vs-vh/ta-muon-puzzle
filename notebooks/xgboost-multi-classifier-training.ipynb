{
 "cells": [
  {
   "cell_type": "code",
   "execution_count": 1,
   "metadata": {},
   "outputs": [],
   "source": [
    "import pandas as pd\n",
    "import xgboost as xgb\n",
    "import numpy as np\n",
    "\n",
    "from sklearn.model_selection import train_test_split"
   ]
  },
  {
   "cell_type": "code",
   "execution_count": 2,
   "metadata": {},
   "outputs": [],
   "source": [
    "df = pd.read_csv(\"../data/mu-frac-iron-shower-signals.csv\")\n",
    "x_columns = df.columns[2:-2]\n",
    "y_columns = df.columns[-2:]"
   ]
  },
  {
   "cell_type": "code",
   "execution_count": 3,
   "metadata": {},
   "outputs": [],
   "source": [
    "MUONLESS_UPPER_BOUND = 0.075\n",
    "MUON_ONLY_LOWER_BOUND = 1 - MUONLESS_UPPER_BOUND"
   ]
  },
  {
   "cell_type": "code",
   "execution_count": 4,
   "metadata": {},
   "outputs": [],
   "source": [
    "X = df[x_columns].to_numpy()\n",
    "mu_ratio = df[y_columns].to_numpy()\n",
    "\n",
    "mu_ratio = np.mean(mu_ratio, axis=1)\n",
    "\n",
    "y = np.ones_like(mu_ratio)\n",
    "y[mu_ratio < MUONLESS_UPPER_BOUND] = 0  # class: muonless\n",
    "y[mu_ratio > MUON_ONLY_LOWER_BOUND] = 2  # class: muon-only\n",
    "\n",
    "X_train, X_test, y_train, y_test = train_test_split(X, y, test_size=0.2)\n"
   ]
  },
  {
   "cell_type": "code",
   "execution_count": 5,
   "metadata": {},
   "outputs": [],
   "source": []
  },
  {
   "cell_type": "code",
   "execution_count": 25,
   "metadata": {},
   "outputs": [],
   "source": [
    "model = xgb.XGBClassifier(\n",
    "    n_estimators=64,\n",
    "    max_depth=8,\n",
    "    learning_rate=0.1,\n",
    "    min_child_weight=2.0,\n",
    "    tree_method=\"auto\",\n",
    "    objective=\"multi:softmax\",\n",
    "    early_stopping_rounds=15,\n",
    ")"
   ]
  },
  {
   "cell_type": "code",
   "execution_count": 26,
   "metadata": {},
   "outputs": [
    {
     "name": "stdout",
     "output_type": "stream",
     "text": [
      "[0]\tvalidation_0-mlogloss:1.01421\n",
      "[1]\tvalidation_0-mlogloss:0.94352\n",
      "[2]\tvalidation_0-mlogloss:0.88367\n",
      "[3]\tvalidation_0-mlogloss:0.83246\n",
      "[4]\tvalidation_0-mlogloss:0.78842\n",
      "[5]\tvalidation_0-mlogloss:0.75014\n",
      "[6]\tvalidation_0-mlogloss:0.71681\n",
      "[7]\tvalidation_0-mlogloss:0.68763\n",
      "[8]\tvalidation_0-mlogloss:0.66199\n",
      "[9]\tvalidation_0-mlogloss:0.63946\n",
      "[10]\tvalidation_0-mlogloss:0.61960\n",
      "[11]\tvalidation_0-mlogloss:0.60212\n",
      "[12]\tvalidation_0-mlogloss:0.58658\n",
      "[13]\tvalidation_0-mlogloss:0.57279\n",
      "[14]\tvalidation_0-mlogloss:0.56056\n",
      "[15]\tvalidation_0-mlogloss:0.54969\n",
      "[16]\tvalidation_0-mlogloss:0.53999\n",
      "[17]\tvalidation_0-mlogloss:0.53140\n",
      "[18]\tvalidation_0-mlogloss:0.52372\n",
      "[19]\tvalidation_0-mlogloss:0.51682\n",
      "[20]\tvalidation_0-mlogloss:0.51066\n",
      "[21]\tvalidation_0-mlogloss:0.50510\n",
      "[22]\tvalidation_0-mlogloss:0.50012\n",
      "[23]\tvalidation_0-mlogloss:0.49572\n",
      "[24]\tvalidation_0-mlogloss:0.49172\n",
      "[25]\tvalidation_0-mlogloss:0.48815\n",
      "[26]\tvalidation_0-mlogloss:0.48485\n",
      "[27]\tvalidation_0-mlogloss:0.48189\n",
      "[28]\tvalidation_0-mlogloss:0.47925\n",
      "[29]\tvalidation_0-mlogloss:0.47673\n",
      "[30]\tvalidation_0-mlogloss:0.47455\n",
      "[31]\tvalidation_0-mlogloss:0.47256\n",
      "[32]\tvalidation_0-mlogloss:0.47076\n",
      "[33]\tvalidation_0-mlogloss:0.46912\n",
      "[34]\tvalidation_0-mlogloss:0.46761\n",
      "[35]\tvalidation_0-mlogloss:0.46621\n",
      "[36]\tvalidation_0-mlogloss:0.46495\n",
      "[37]\tvalidation_0-mlogloss:0.46374\n",
      "[38]\tvalidation_0-mlogloss:0.46262\n",
      "[39]\tvalidation_0-mlogloss:0.46163\n",
      "[40]\tvalidation_0-mlogloss:0.46071\n",
      "[41]\tvalidation_0-mlogloss:0.45985\n",
      "[42]\tvalidation_0-mlogloss:0.45909\n",
      "[43]\tvalidation_0-mlogloss:0.45831\n",
      "[44]\tvalidation_0-mlogloss:0.45763\n",
      "[45]\tvalidation_0-mlogloss:0.45696\n",
      "[46]\tvalidation_0-mlogloss:0.45632\n",
      "[47]\tvalidation_0-mlogloss:0.45577\n",
      "[48]\tvalidation_0-mlogloss:0.45520\n",
      "[49]\tvalidation_0-mlogloss:0.45470\n",
      "[50]\tvalidation_0-mlogloss:0.45420\n",
      "[51]\tvalidation_0-mlogloss:0.45376\n",
      "[52]\tvalidation_0-mlogloss:0.45332\n",
      "[53]\tvalidation_0-mlogloss:0.45293\n",
      "[54]\tvalidation_0-mlogloss:0.45251\n",
      "[55]\tvalidation_0-mlogloss:0.45219\n",
      "[56]\tvalidation_0-mlogloss:0.45187\n",
      "[57]\tvalidation_0-mlogloss:0.45156\n",
      "[58]\tvalidation_0-mlogloss:0.45124\n",
      "[59]\tvalidation_0-mlogloss:0.45095\n",
      "[60]\tvalidation_0-mlogloss:0.45073\n",
      "[61]\tvalidation_0-mlogloss:0.45045\n",
      "[62]\tvalidation_0-mlogloss:0.45019\n",
      "[63]\tvalidation_0-mlogloss:0.44995\n"
     ]
    },
    {
     "data": {
      "text/plain": [
       "XGBClassifier(base_score=0.5, booster='gbtree', callbacks=None,\n",
       "              colsample_bylevel=1, colsample_bynode=1, colsample_bytree=1,\n",
       "              early_stopping_rounds=15, enable_categorical=False,\n",
       "              eval_metric=None, gamma=0, gpu_id=-1, grow_policy='depthwise',\n",
       "              importance_type=None, interaction_constraints='',\n",
       "              learning_rate=0.1, max_bin=256, max_cat_to_onehot=4,\n",
       "              max_delta_step=0, max_depth=8, max_leaves=0, min_child_weight=2.0,\n",
       "              missing=nan, monotone_constraints='()', n_estimators=64, n_jobs=0,\n",
       "              num_parallel_tree=1, objective='multi:softmax', predictor='auto',\n",
       "              random_state=0, reg_alpha=0, ...)"
      ]
     },
     "execution_count": 26,
     "metadata": {},
     "output_type": "execute_result"
    }
   ],
   "source": [
    "model.fit(X_train, y_train, eval_set=[(X_test, y_test)], verbose=True)"
   ]
  },
  {
   "cell_type": "code",
   "execution_count": 27,
   "metadata": {},
   "outputs": [
    {
     "name": "stdout",
     "output_type": "stream",
     "text": [
      "precision = 0.7991234721337611\n",
      "recall = 0.8131712362879436\n",
      "\n",
      "confustion matrix=\n",
      "[[ 6994  6916  2004]\n",
      " [ 1592 51254   636]\n",
      " [ 1575  1907  5429]]\n"
     ]
    }
   ],
   "source": [
    "from sklearn.metrics import precision_score, recall_score, confusion_matrix\n",
    "\n",
    "y_pred = np.round(model.predict(X_test))\n",
    "print(f'precision = {precision_score(y_test, y_pred, average=\"weighted\")}')\n",
    "print(f'recall = {recall_score(y_test, y_pred, average=\"weighted\")}')\n",
    "\n",
    "print(f'\\nconfustion matrix=\\n{confusion_matrix(y_test, y_pred)}')"
   ]
  },
  {
   "cell_type": "code",
   "execution_count": 28,
   "metadata": {},
   "outputs": [],
   "source": [
    "model.save_model(\"../trained_models/xgboost-classifier-multi.model\")"
   ]
  },
  {
   "cell_type": "code",
   "execution_count": null,
   "metadata": {},
   "outputs": [],
   "source": []
  }
 ],
 "metadata": {
  "interpreter": {
   "hash": "4927d114e6798c3c0fda432c77d8af9afcc7df197f36be13b63d7c118b0f985d"
  },
  "kernelspec": {
   "display_name": "Python 3.8.10 ('venv': venv)",
   "language": "python",
   "name": "python3"
  },
  "language_info": {
   "codemirror_mode": {
    "name": "ipython",
    "version": 3
   },
   "file_extension": ".py",
   "mimetype": "text/x-python",
   "name": "python",
   "nbconvert_exporter": "python",
   "pygments_lexer": "ipython3",
   "version": "3.8.10"
  },
  "orig_nbformat": 4
 },
 "nbformat": 4,
 "nbformat_minor": 2
}
