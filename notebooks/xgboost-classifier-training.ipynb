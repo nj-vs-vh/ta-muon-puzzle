{
 "cells": [
  {
   "cell_type": "code",
   "execution_count": 1,
   "metadata": {},
   "outputs": [],
   "source": [
    "import pandas as pd\n",
    "import xgboost as xgb\n",
    "import matplotlib.pyplot as plt\n",
    "import numpy as np\n",
    "\n",
    "from sklearn.model_selection import train_test_split"
   ]
  },
  {
   "cell_type": "code",
   "execution_count": 2,
   "metadata": {},
   "outputs": [],
   "source": [
    "df = pd.read_csv(\"../mu-frac-iron-shower-signals.csv\")\n",
    "x_columns = df.columns[2:-2]\n",
    "y_columns = df.columns[-2:]"
   ]
  },
  {
   "cell_type": "code",
   "execution_count": 9,
   "metadata": {},
   "outputs": [],
   "source": [
    "PREDICT_TOP = True\n",
    "EPS = 0.075"
   ]
  },
  {
   "cell_type": "code",
   "execution_count": 10,
   "metadata": {},
   "outputs": [],
   "source": [
    "X = df[x_columns].to_numpy()\n",
    "mu_ratio = df[y_columns].to_numpy()\n",
    "\n",
    "mu_ratio = mu_ratio[:, 0 if PREDICT_TOP else 1]\n",
    "\n",
    "y = np.ones_like(mu_ratio)\n",
    "y[mu_ratio < EPS] = 0  # class: muonless\n",
    "y[mu_ratio > 1 - EPS] = 0  # class: muon-only\n",
    "\n",
    "X_train, X_test, y_train, y_test = train_test_split(X, y, test_size=0.2)\n"
   ]
  },
  {
   "cell_type": "code",
   "execution_count": 11,
   "metadata": {},
   "outputs": [],
   "source": [
    "dtrain = xgb.DMatrix(X_train, label=y_train)\n",
    "dtest = xgb.DMatrix(X_test, label=y_test)"
   ]
  },
  {
   "cell_type": "code",
   "execution_count": 12,
   "metadata": {},
   "outputs": [],
   "source": [
    "param = {\n",
    "    'max_depth': 8,\n",
    "    'learning_rate': 0.1,\n",
    "    'min_child_weight': 2.0,\n",
    "    # 'objective': 'multi:softmax',\n",
    "    # 'num_class': 3,\n",
    "    'objective': 'binary:logistic',\n",
    "}\n",
    "\n",
    "epochs = 50"
   ]
  },
  {
   "cell_type": "code",
   "execution_count": 13,
   "metadata": {},
   "outputs": [
    {
     "name": "stdout",
     "output_type": "stream",
     "text": [
      "[18:50:25] WARNING: ../src/learner.cc:1115: Starting in XGBoost 1.3.0, the default evaluation metric used with the objective 'binary:logistic' was changed from 'error' to 'logloss'. Explicitly set eval_metric if you'd like to restore the old behavior.\n",
      "[0]\ttest-logloss:0.64019\n",
      "[5]\ttest-logloss:0.48359\n",
      "[10]\ttest-logloss:0.41302\n",
      "[15]\ttest-logloss:0.37859\n",
      "[20]\ttest-logloss:0.36121\n",
      "[25]\ttest-logloss:0.35210\n",
      "[30]\ttest-logloss:0.34731\n",
      "[35]\ttest-logloss:0.34484\n",
      "[40]\ttest-logloss:0.34349\n",
      "[45]\ttest-logloss:0.34274\n",
      "[49]\ttest-logloss:0.34226\n"
     ]
    }
   ],
   "source": [
    "model = xgb.train(param, dtrain, num_boost_round=epochs, evals=[(dtest, 'test')], verbose_eval=5, early_stopping_rounds=5)"
   ]
  },
  {
   "cell_type": "code",
   "execution_count": 14,
   "metadata": {},
   "outputs": [
    {
     "name": "stdout",
     "output_type": "stream",
     "text": [
      "precision = 0.8511575261305555\n",
      "recall = 0.9295771927452533\n",
      "\n",
      "confustion matrix=\n",
      "[[18118  8416]\n",
      " [ 3646 48127]]\n"
     ]
    }
   ],
   "source": [
    "from sklearn.metrics import precision_score, recall_score, confusion_matrix\n",
    "\n",
    "y_pred = np.round(model.predict(dtest))\n",
    "print(f'precision = {precision_score(y_test, y_pred, average=\"binary\")}')\n",
    "print(f'recall = {recall_score(y_test, y_pred, average=\"binary\")}')\n",
    "\n",
    "print(f'\\nconfustion matrix=\\n{confusion_matrix(y_test, y_pred)}')"
   ]
  },
  {
   "cell_type": "code",
   "execution_count": 15,
   "metadata": {},
   "outputs": [],
   "source": [
    "model.save_model(\"../trained_models/xgboost-classifier.model\")"
   ]
  },
  {
   "cell_type": "code",
   "execution_count": null,
   "metadata": {},
   "outputs": [],
   "source": []
  }
 ],
 "metadata": {
  "interpreter": {
   "hash": "4927d114e6798c3c0fda432c77d8af9afcc7df197f36be13b63d7c118b0f985d"
  },
  "kernelspec": {
   "display_name": "Python 3.8.10 ('venv': venv)",
   "language": "python",
   "name": "python3"
  },
  "language_info": {
   "codemirror_mode": {
    "name": "ipython",
    "version": 3
   },
   "file_extension": ".py",
   "mimetype": "text/x-python",
   "name": "python",
   "nbconvert_exporter": "python",
   "pygments_lexer": "ipython3",
   "version": "3.8.10"
  },
  "orig_nbformat": 4
 },
 "nbformat": 4,
 "nbformat_minor": 2
}
