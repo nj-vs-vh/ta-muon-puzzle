{
 "cells": [
  {
   "cell_type": "code",
   "execution_count": 1,
   "metadata": {},
   "outputs": [],
   "source": [
    "import pandas as pd\n",
    "import xgboost as xgb\n",
    "import matplotlib.pyplot as plt\n",
    "import numpy as np\n",
    "\n",
    "from sklearn.model_selection import train_test_split"
   ]
  },
  {
   "cell_type": "code",
   "execution_count": 2,
   "metadata": {},
   "outputs": [],
   "source": [
    "df = pd.read_csv(\"../data/mu-frac-iron-shower-signals.csv\")\n",
    "x_columns = df.columns[2:-2]\n",
    "y_columns = df.columns[-2:]"
   ]
  },
  {
   "cell_type": "code",
   "execution_count": 31,
   "metadata": {},
   "outputs": [],
   "source": [
    "MUONLESS_UPEER_BOUND = 0.000001\n",
    "MUON_ONLY_LOWER_BOUND = 0.9"
   ]
  },
  {
   "cell_type": "code",
   "execution_count": 32,
   "metadata": {},
   "outputs": [],
   "source": [
    "X = df[x_columns].to_numpy()\n",
    "mu_ratio = df[y_columns].to_numpy()\n",
    "\n",
    "mu_ratio = np.mean(mu_ratio, axis=1)\n",
    "\n",
    "y = np.zeros_like(mu_ratio)\n",
    "y[mu_ratio < MUONLESS_UPEER_BOUND] = 1  # class: muonless\n",
    "# y[mu_ratio > MUON_ONLY_LOWER_BOUND] = 1  # class: muon-only\n",
    "\n",
    "X_train, X_test, y_train, y_test = train_test_split(X, y, test_size=0.3)\n"
   ]
  },
  {
   "cell_type": "code",
   "execution_count": 33,
   "metadata": {},
   "outputs": [
    {
     "name": "stdout",
     "output_type": "stream",
     "text": [
      "special signals: 47194.0\n",
      "regular signals: 344340.0\n"
     ]
    }
   ],
   "source": [
    "total_ones = np.sum(y)\n",
    "total = y.size\n",
    "\n",
    "print(f\"special signals: {total_ones}\")\n",
    "print(f\"regular signals: {total - total_ones}\")"
   ]
  },
  {
   "cell_type": "code",
   "execution_count": 34,
   "metadata": {},
   "outputs": [],
   "source": [
    "SPECIAL_WEIGHT = 2\n",
    "\n",
    "dtrain = xgb.DMatrix(X_train, label=y_train, weight=1 + (SPECIAL_WEIGHT - 1) * y_train)\n",
    "dtest = xgb.DMatrix(X_test, label=y_test, weight=1 + (SPECIAL_WEIGHT - 1) * y_test)"
   ]
  },
  {
   "cell_type": "code",
   "execution_count": 35,
   "metadata": {},
   "outputs": [],
   "source": [
    "param = {\n",
    "    'max_depth': 8,\n",
    "    'learning_rate': 0.1,\n",
    "    'min_child_weight': 2.0,\n",
    "    # 'objective': 'multi:softmax',\n",
    "    # 'num_class': 3,\n",
    "    'objective': 'binary:logistic',\n",
    "}\n",
    "\n",
    "epochs = 50"
   ]
  },
  {
   "cell_type": "code",
   "execution_count": 36,
   "metadata": {},
   "outputs": [
    {
     "name": "stdout",
     "output_type": "stream",
     "text": [
      "[0]\ttest-logloss:0.62866\n",
      "[5]\ttest-logloss:0.43595\n",
      "[10]\ttest-logloss:0.34542\n",
      "[15]\ttest-logloss:0.29812\n",
      "[20]\ttest-logloss:0.27179\n",
      "[25]\ttest-logloss:0.25673\n",
      "[30]\ttest-logloss:0.24805\n",
      "[35]\ttest-logloss:0.24297\n",
      "[40]\ttest-logloss:0.23983\n",
      "[45]\ttest-logloss:0.23782\n",
      "[49]\ttest-logloss:0.23682\n"
     ]
    }
   ],
   "source": [
    "model = xgb.train(param, dtrain, num_boost_round=epochs, evals=[(dtest, 'test')], verbose_eval=5, early_stopping_rounds=5)"
   ]
  },
  {
   "cell_type": "code",
   "execution_count": 37,
   "metadata": {},
   "outputs": [
    {
     "name": "stdout",
     "output_type": "stream",
     "text": [
      "precision = 0.6125675993416412\n",
      "recall = 0.7329441552961036\n",
      "\n",
      "confustion matrix=\n",
      "[[96652  6591]\n",
      " [ 3797 10421]]\n"
     ]
    }
   ],
   "source": [
    "from sklearn.metrics import precision_score, recall_score, confusion_matrix\n",
    "\n",
    "y_pred = np.round(model.predict(dtest))\n",
    "print(f'precision = {precision_score(y_test, y_pred, average=\"binary\")}')\n",
    "print(f'recall = {recall_score(y_test, y_pred, average=\"binary\")}')\n",
    "\n",
    "print(f'\\nconfustion matrix=\\n{confusion_matrix(y_test, y_pred)}')"
   ]
  },
  {
   "cell_type": "code",
   "execution_count": 38,
   "metadata": {},
   "outputs": [],
   "source": [
    "model.save_model(\"../trained_models/xgboost-classifier.model\")"
   ]
  },
  {
   "cell_type": "code",
   "execution_count": null,
   "metadata": {},
   "outputs": [],
   "source": []
  }
 ],
 "metadata": {
  "interpreter": {
   "hash": "4927d114e6798c3c0fda432c77d8af9afcc7df197f36be13b63d7c118b0f985d"
  },
  "kernelspec": {
   "display_name": "Python 3.8.10 ('venv': venv)",
   "language": "python",
   "name": "python3"
  },
  "language_info": {
   "codemirror_mode": {
    "name": "ipython",
    "version": 3
   },
   "file_extension": ".py",
   "mimetype": "text/x-python",
   "name": "python",
   "nbconvert_exporter": "python",
   "pygments_lexer": "ipython3",
   "version": "3.8.10"
  },
  "orig_nbformat": 4
 },
 "nbformat": 4,
 "nbformat_minor": 2
}
