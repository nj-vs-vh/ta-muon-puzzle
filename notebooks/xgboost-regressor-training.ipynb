{
 "cells": [
  {
   "cell_type": "code",
   "execution_count": 1,
   "metadata": {},
   "outputs": [
    {
     "name": "stderr",
     "output_type": "stream",
     "text": [
      "/home/njvh/Documents/Science/ta/takeishi/venv/lib/python3.8/site-packages/xgboost/compat.py:36: FutureWarning: pandas.Int64Index is deprecated and will be removed from pandas in a future version. Use pandas.Index with the appropriate dtype instead.\n",
      "  from pandas import MultiIndex, Int64Index\n"
     ]
    }
   ],
   "source": [
    "import pandas as pd\n",
    "import xgboost as xgb\n",
    "import matplotlib.pyplot as plt\n",
    "import numpy as np\n",
    "\n",
    "from sklearn.model_selection import train_test_split"
   ]
  },
  {
   "cell_type": "code",
   "execution_count": 2,
   "metadata": {},
   "outputs": [],
   "source": [
    "df = pd.read_csv(\"../data/mu-frac-iron-shower-signals.csv\")\n",
    "x_columns = df.columns[2:-2]\n",
    "y_columns = df.columns[-2:]"
   ]
  },
  {
   "cell_type": "code",
   "execution_count": 3,
   "metadata": {},
   "outputs": [],
   "source": [
    "CUT_EXTREME_VALUES = True\n",
    "PREDICT_TOP = True"
   ]
  },
  {
   "cell_type": "code",
   "execution_count": 4,
   "metadata": {},
   "outputs": [],
   "source": [
    "X = df[x_columns].to_numpy()\n",
    "y = df[y_columns].to_numpy()\n",
    "\n",
    "y = y[:, 0 if PREDICT_TOP else 1]\n",
    "\n",
    "\n",
    "if CUT_EXTREME_VALUES:\n",
    "    classifier = xgb.Booster()\n",
    "    classifier.load_model(\"../trained_models/xgboost-classifier.model\")\n",
    "\n",
    "    dall = xgb.DMatrix(X)\n",
    "    class_predicted = classifier.predict(dall)\n",
    "    mask = class_predicted > 0.5\n",
    "    # eps = 0.03\n",
    "    # mask = np.logical_and(y > eps, y < 1 - eps)\n",
    "    X = X[mask, :]\n",
    "    y = y[mask]\n",
    "\n",
    "X_train, X_test, y_train, y_test = train_test_split(X, y, test_size=0.2)\n"
   ]
  },
  {
   "cell_type": "code",
   "execution_count": 5,
   "metadata": {},
   "outputs": [],
   "source": [
    "dtrain = xgb.DMatrix(X_train, label=y_train)\n",
    "dtest = xgb.DMatrix(X_test, label=y_test)"
   ]
  },
  {
   "cell_type": "code",
   "execution_count": 6,
   "metadata": {},
   "outputs": [],
   "source": [
    "param = {\n",
    "    'max_depth': 8,\n",
    "    'learning_rate': 0.05,\n",
    "    'min_child_weight': 3.0,\n",
    "    'subsample': 0.8,\n",
    "    'objective': 'reg:logistic',\n",
    "    'eval_metric': 'rmse',\n",
    "}\n",
    "\n",
    "epochs = 500"
   ]
  },
  {
   "cell_type": "code",
   "execution_count": 7,
   "metadata": {},
   "outputs": [
    {
     "name": "stdout",
     "output_type": "stream",
     "text": [
      "[0]\ttest-rmse:0.29397\n",
      "[5]\ttest-rmse:0.26028\n",
      "[10]\ttest-rmse:0.23752\n",
      "[15]\ttest-rmse:0.22243\n",
      "[20]\ttest-rmse:0.21263\n",
      "[25]\ttest-rmse:0.20626\n",
      "[30]\ttest-rmse:0.20215\n",
      "[35]\ttest-rmse:0.19947\n",
      "[40]\ttest-rmse:0.19772\n",
      "[45]\ttest-rmse:0.19651\n",
      "[50]\ttest-rmse:0.19569\n",
      "[55]\ttest-rmse:0.19513\n",
      "[60]\ttest-rmse:0.19472\n",
      "[65]\ttest-rmse:0.19441\n",
      "[70]\ttest-rmse:0.19418\n",
      "[75]\ttest-rmse:0.19400\n",
      "[80]\ttest-rmse:0.19389\n",
      "[85]\ttest-rmse:0.19381\n",
      "[90]\ttest-rmse:0.19374\n",
      "[95]\ttest-rmse:0.19369\n",
      "[100]\ttest-rmse:0.19362\n",
      "[105]\ttest-rmse:0.19359\n",
      "[110]\ttest-rmse:0.19353\n",
      "[115]\ttest-rmse:0.19351\n",
      "[120]\ttest-rmse:0.19348\n",
      "[125]\ttest-rmse:0.19347\n",
      "[130]\ttest-rmse:0.19344\n",
      "[135]\ttest-rmse:0.19341\n",
      "[140]\ttest-rmse:0.19341\n",
      "[145]\ttest-rmse:0.19341\n",
      "[150]\ttest-rmse:0.19340\n",
      "[155]\ttest-rmse:0.19338\n",
      "[160]\ttest-rmse:0.19338\n",
      "[165]\ttest-rmse:0.19338\n",
      "[170]\ttest-rmse:0.19337\n",
      "[175]\ttest-rmse:0.19336\n",
      "[180]\ttest-rmse:0.19336\n",
      "[185]\ttest-rmse:0.19335\n",
      "[190]\ttest-rmse:0.19334\n",
      "[195]\ttest-rmse:0.19333\n",
      "[200]\ttest-rmse:0.19333\n",
      "[205]\ttest-rmse:0.19332\n",
      "[210]\ttest-rmse:0.19330\n",
      "[215]\ttest-rmse:0.19330\n",
      "[220]\ttest-rmse:0.19329\n",
      "[225]\ttest-rmse:0.19329\n",
      "[230]\ttest-rmse:0.19329\n",
      "[235]\ttest-rmse:0.19329\n",
      "[240]\ttest-rmse:0.19329\n",
      "[243]\ttest-rmse:0.19329\n"
     ]
    }
   ],
   "source": [
    "model = xgb.train(param, dtrain, num_boost_round=epochs, evals=[(dtest, 'test')], verbose_eval=5, early_stopping_rounds=15)"
   ]
  },
  {
   "cell_type": "code",
   "execution_count": 8,
   "metadata": {},
   "outputs": [
    {
     "data": {
      "image/png": "[encoded data removed]",
      "text/plain": [
       "<Figure size 720x720 with 1 Axes>"
      ]
     },
     "metadata": {
      "needs_background": "light"
     },
     "output_type": "display_data"
    }
   ],
   "source": [
    "y_pred = model.predict(dtest)\n",
    "y_true = dtest.get_label()\n",
    "\n",
    "from matplotlib.colors import LogNorm\n",
    "\n",
    "fig, ax = plt.subplots(figsize=(10, 10))\n",
    "\n",
    "ax.hist2d(y_true, y_pred, bins=30) # , norm=LogNorm())\n",
    "ax.set_xlabel(\"True\")\n",
    "ax.set_ylabel(\"Predicted\")\n",
    "ax.plot([0, 1], [0, 1], color='red')\n",
    "\n",
    "plt.savefig(f\"../pics/xgboost-evaluation-{param['objective']}-no-extremes.png\", bbox_inches='tight')"
   ]
  },
  {
   "cell_type": "code",
   "execution_count": null,
   "metadata": {},
   "outputs": [],
   "source": []
  }
 ],
 "metadata": {
  "interpreter": {
   "hash": "4927d114e6798c3c0fda432c77d8af9afcc7df197f36be13b63d7c118b0f985d"
  },
  "kernelspec": {
   "display_name": "Python 3.8.10 ('venv': venv)",
   "language": "python",
   "name": "python3"
  },
  "language_info": {
   "codemirror_mode": {
    "name": "ipython",
    "version": 3
   },
   "file_extension": ".py",
   "mimetype": "text/x-python",
   "name": "python",
   "nbconvert_exporter": "python",
   "pygments_lexer": "ipython3",
   "version": "3.8.10"
  },
  "orig_nbformat": 4
 },
 "nbformat": 4,
 "nbformat_minor": 2
}
