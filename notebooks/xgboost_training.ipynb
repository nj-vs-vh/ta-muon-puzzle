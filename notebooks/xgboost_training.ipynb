{
 "cells": [
  {
   "cell_type": "code",
   "execution_count": 1,
   "metadata": {},
   "outputs": [],
   "source": [
    "import pandas as pd\n",
    "import xgboost as xgb\n",
    "import matplotlib.pyplot as plt\n",
    "\n",
    "from sklearn.model_selection import train_test_split"
   ]
  },
  {
   "cell_type": "code",
   "execution_count": 2,
   "metadata": {},
   "outputs": [],
   "source": [
    "df = pd.read_csv(\"../mu-frac-iron-shower-signals.csv\")\n",
    "x_columns = df.columns[2:-2]\n",
    "y_columns = df.columns[-2:]"
   ]
  },
  {
   "cell_type": "code",
   "execution_count": 3,
   "metadata": {},
   "outputs": [],
   "source": [
    "X = df[x_columns].to_numpy()\n",
    "y = df[y_columns].to_numpy()\n",
    "X_train, X_test, y_train, y_test = train_test_split(X, y, test_size=0.1)\n"
   ]
  },
  {
   "cell_type": "code",
   "execution_count": 4,
   "metadata": {},
   "outputs": [],
   "source": [
    "PREDICT_TOP = True\n",
    "\n",
    "dtrain = xgb.DMatrix(X_train, label=y_train[:, 0 if PREDICT_TOP else 1])\n",
    "dtest = xgb.DMatrix(X_test, label=y_test[:, 0 if PREDICT_TOP else 1])"
   ]
  },
  {
   "cell_type": "code",
   "execution_count": 9,
   "metadata": {},
   "outputs": [],
   "source": [
    "param = {\n",
    "    'max_depth': 8,\n",
    "    'learning_rate': 0.03,\n",
    "    'min_child_weight': 2.0,\n",
    "    'subsample': 1.0,\n",
    "    'objective': 'reg:logistic',\n",
    "}\n",
    "\n",
    "epochs = 500"
   ]
  },
  {
   "cell_type": "code",
   "execution_count": 10,
   "metadata": {},
   "outputs": [
    {
     "name": "stdout",
     "output_type": "stream",
     "text": [
      "[0]\ttest-rmse:0.35131\n",
      "[5]\ttest-rmse:0.33288\n",
      "[10]\ttest-rmse:0.31846\n",
      "[15]\ttest-rmse:0.30710\n",
      "[20]\ttest-rmse:0.29830\n",
      "[25]\ttest-rmse:0.29137\n",
      "[30]\ttest-rmse:0.28590\n",
      "[35]\ttest-rmse:0.28161\n",
      "[40]\ttest-rmse:0.27826\n",
      "[45]\ttest-rmse:0.27559\n",
      "[50]\ttest-rmse:0.27353\n",
      "[55]\ttest-rmse:0.27186\n",
      "[60]\ttest-rmse:0.27051\n",
      "[65]\ttest-rmse:0.26939\n",
      "[70]\ttest-rmse:0.26846\n",
      "[75]\ttest-rmse:0.26775\n",
      "[80]\ttest-rmse:0.26707\n",
      "[85]\ttest-rmse:0.26658\n",
      "[90]\ttest-rmse:0.26610\n",
      "[95]\ttest-rmse:0.26569\n",
      "[100]\ttest-rmse:0.26530\n",
      "[105]\ttest-rmse:0.26499\n",
      "[110]\ttest-rmse:0.26473\n",
      "[115]\ttest-rmse:0.26454\n",
      "[120]\ttest-rmse:0.26432\n",
      "[125]\ttest-rmse:0.26414\n",
      "[130]\ttest-rmse:0.26399\n",
      "[135]\ttest-rmse:0.26383\n",
      "[140]\ttest-rmse:0.26370\n",
      "[145]\ttest-rmse:0.26359\n",
      "[150]\ttest-rmse:0.26349\n",
      "[155]\ttest-rmse:0.26338\n",
      "[160]\ttest-rmse:0.26329\n",
      "[165]\ttest-rmse:0.26320\n",
      "[170]\ttest-rmse:0.26310\n",
      "[175]\ttest-rmse:0.26306\n",
      "[180]\ttest-rmse:0.26299\n",
      "[185]\ttest-rmse:0.26292\n",
      "[190]\ttest-rmse:0.26287\n",
      "[195]\ttest-rmse:0.26280\n",
      "[200]\ttest-rmse:0.26275\n",
      "[205]\ttest-rmse:0.26270\n",
      "[210]\ttest-rmse:0.26266\n",
      "[215]\ttest-rmse:0.26261\n",
      "[220]\ttest-rmse:0.26259\n",
      "[225]\ttest-rmse:0.26256\n",
      "[230]\ttest-rmse:0.26253\n",
      "[235]\ttest-rmse:0.26249\n",
      "[240]\ttest-rmse:0.26247\n",
      "[245]\ttest-rmse:0.26244\n",
      "[250]\ttest-rmse:0.26242\n",
      "[255]\ttest-rmse:0.26240\n",
      "[260]\ttest-rmse:0.26240\n",
      "[265]\ttest-rmse:0.26237\n",
      "[270]\ttest-rmse:0.26235\n",
      "[275]\ttest-rmse:0.26235\n",
      "[280]\ttest-rmse:0.26233\n",
      "[285]\ttest-rmse:0.26232\n",
      "[290]\ttest-rmse:0.26230\n",
      "[295]\ttest-rmse:0.26229\n",
      "[300]\ttest-rmse:0.26229\n",
      "[305]\ttest-rmse:0.26228\n",
      "[310]\ttest-rmse:0.26226\n",
      "[315]\ttest-rmse:0.26225\n",
      "[320]\ttest-rmse:0.26224\n",
      "[325]\ttest-rmse:0.26223\n",
      "[330]\ttest-rmse:0.26223\n",
      "[335]\ttest-rmse:0.26223\n",
      "[340]\ttest-rmse:0.26221\n",
      "[345]\ttest-rmse:0.26220\n",
      "[350]\ttest-rmse:0.26220\n",
      "[355]\ttest-rmse:0.26219\n",
      "[360]\ttest-rmse:0.26220\n",
      "[365]\ttest-rmse:0.26219\n",
      "[370]\ttest-rmse:0.26219\n",
      "[375]\ttest-rmse:0.26218\n",
      "[380]\ttest-rmse:0.26218\n",
      "[385]\ttest-rmse:0.26217\n",
      "[390]\ttest-rmse:0.26216\n",
      "[395]\ttest-rmse:0.26217\n",
      "[400]\ttest-rmse:0.26215\n",
      "[405]\ttest-rmse:0.26215\n",
      "[410]\ttest-rmse:0.26214\n",
      "[415]\ttest-rmse:0.26211\n",
      "[420]\ttest-rmse:0.26210\n",
      "[425]\ttest-rmse:0.26209\n",
      "[430]\ttest-rmse:0.26208\n",
      "[435]\ttest-rmse:0.26207\n",
      "[440]\ttest-rmse:0.26206\n",
      "[445]\ttest-rmse:0.26206\n",
      "[450]\ttest-rmse:0.26205\n",
      "[455]\ttest-rmse:0.26205\n",
      "[460]\ttest-rmse:0.26206\n",
      "[465]\ttest-rmse:0.26205\n",
      "[470]\ttest-rmse:0.26205\n",
      "[475]\ttest-rmse:0.26204\n",
      "[480]\ttest-rmse:0.26203\n",
      "[485]\ttest-rmse:0.26203\n",
      "[490]\ttest-rmse:0.26202\n",
      "[495]\ttest-rmse:0.26203\n",
      "[499]\ttest-rmse:0.26203\n"
     ]
    }
   ],
   "source": [
    "model = xgb.train(param, dtrain, num_boost_round=epochs, evals=[(dtest, 'test')], verbose_eval=5, early_stopping_rounds=15)"
   ]
  },
  {
   "cell_type": "code",
   "execution_count": 12,
   "metadata": {},
   "outputs": [
    {
     "data": {
      "image/png": "[encoded data removed]",
      "text/plain": [
       "<Figure size 720x720 with 1 Axes>"
      ]
     },
     "metadata": {
      "needs_background": "light"
     },
     "output_type": "display_data"
    }
   ],
   "source": [
    "y_pred = model.predict(dtest)\n",
    "y_true = dtest.get_label()\n",
    "\n",
    "from matplotlib.colors import LogNorm\n",
    "\n",
    "fig, ax = plt.subplots(figsize=(10, 10))\n",
    "\n",
    "ax.hist2d(y_true, y_pred, bins=30) # , norm=LogNorm())\n",
    "ax.set_xlabel(\"True\")\n",
    "ax.set_ylabel(\"Predicted\")\n",
    "ax.plot([0, 1], [0, 1], color='red')\n",
    "\n",
    "plt.savefig(f\"../pics/xgboost-evaluation-{param['objective']}.png\", bbox_inches='tight')"
   ]
  },
  {
   "cell_type": "code",
   "execution_count": null,
   "metadata": {},
   "outputs": [],
   "source": []
  }
 ],
 "metadata": {
  "interpreter": {
   "hash": "4927d114e6798c3c0fda432c77d8af9afcc7df197f36be13b63d7c118b0f985d"
  },
  "kernelspec": {
   "display_name": "Python 3.8.10 ('venv': venv)",
   "language": "python",
   "name": "python3"
  },
  "language_info": {
   "codemirror_mode": {
    "name": "ipython",
    "version": 3
   },
   "file_extension": ".py",
   "mimetype": "text/x-python",
   "name": "python",
   "nbconvert_exporter": "python",
   "pygments_lexer": "ipython3",
   "version": "3.8.10"
  },
  "orig_nbformat": 4
 },
 "nbformat": 4,
 "nbformat_minor": 2
}
